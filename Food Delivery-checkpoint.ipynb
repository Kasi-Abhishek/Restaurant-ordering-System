{
 "cells": [
  {
   "cell_type": "code",
   "execution_count": 6,
   "id": "e9478a01",
   "metadata": {},
   "outputs": [
    {
     "name": "stdout",
     "output_type": "stream",
     "text": [
      "Menu:\n",
      "Burger: $5.99\n",
      "Pizza: $8.99\n",
      "Salad: $4.99\n",
      "Pasta: $7.99\n",
      "Soft Drink: $1.99\n",
      "Enter the item you want to order (or 'done' to finish): Pizza\n",
      "How many Pizzas would you like to order? 2\n",
      "Menu:\n",
      "Burger: $5.99\n",
      "Pizza: $8.99\n",
      "Salad: $4.99\n",
      "Pasta: $7.99\n",
      "Soft Drink: $1.99\n",
      "Enter the item you want to order (or 'done' to finish): Soft Drink\n",
      "How many Soft Drinks would you like to order? 4\n",
      "Menu:\n",
      "Burger: $5.99\n",
      "Pizza: $8.99\n",
      "Salad: $4.99\n",
      "Pasta: $7.99\n",
      "Soft Drink: $1.99\n",
      "Enter the item you want to order (or 'done' to finish): done\n",
      "\n",
      "Your Order:\n",
      "Pizza x2: $17.98\n",
      "Soft Drink x4: $7.96\n",
      "Total: $25.94\n"
     ]
    }
   ],
   "source": [
    "menu = {\n",
    "    'Burger': 5.99,\n",
    "    'Pizza': 8.99,\n",
    "    'Salad': 4.99,\n",
    "    'Pasta': 7.99,\n",
    "    'Soft Drink': 1.99\n",
    "}\n",
    "\n",
    "class Menu:\n",
    "    def __init__(self, items):\n",
    "        self.items = items\n",
    "    \n",
    "    def display_menu(self):\n",
    "        print(\"Menu:\")\n",
    "        for item, price in self.items.items():\n",
    "            print(f\"{item}: ${price:.2f}\")\n",
    "\n",
    "class Order:\n",
    "    def __init__(self):\n",
    "        self.items = []\n",
    "        self.total = 0.0\n",
    "    \n",
    "    def add_item(self, item, quantity):\n",
    "        if item in menu:\n",
    "            self.items.append((item, quantity, menu[item] * quantity))\n",
    "            self.total += menu[item] * quantity\n",
    "        else:\n",
    "            print(f\"Sorry, {item} is not on the menu.\")\n",
    "    \n",
    "    def display_order(self):\n",
    "        print(\"\\nYour Order:\")\n",
    "        for item, quantity, price in self.items:\n",
    "            print(f\"{item} x{quantity}: ${price:.2f}\")\n",
    "        print(f\"Total: ${self.total:.2f}\")\n",
    "\n",
    "def main():\n",
    "    my_menu = Menu(menu)\n",
    "    my_order = Order()\n",
    "    \n",
    "    while True:\n",
    "        my_menu.display_menu()\n",
    "        choice = input(\"Enter the item you want to order (or 'done' to finish): \")\n",
    "        if choice.lower() == 'done':\n",
    "            break\n",
    "        quantity = int(input(f\"How many {choice}s would you like to order? \"))\n",
    "        my_order.add_item(choice, quantity)\n",
    "    \n",
    "    my_order.display_order()\n",
    "   \n",
    "if __name__ == \"__main__\":\n",
    "    main()\n"
   ]
  },
  {
   "cell_type": "code",
   "execution_count": null,
   "id": "78bf8fcc",
   "metadata": {},
   "outputs": [],
   "source": []
  }
 ],
 "metadata": {
  "kernelspec": {
   "display_name": "Python 3 (ipykernel)",
   "language": "python",
   "name": "python3"
  },
  "language_info": {
   "codemirror_mode": {
    "name": "ipython",
    "version": 3
   },
   "file_extension": ".py",
   "mimetype": "text/x-python",
   "name": "python",
   "nbconvert_exporter": "python",
   "pygments_lexer": "ipython3",
   "version": "3.11.5"
  }
 },
 "nbformat": 4,
 "nbformat_minor": 5
}
